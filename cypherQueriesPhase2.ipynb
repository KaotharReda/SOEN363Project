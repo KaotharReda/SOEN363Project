{
 "cells": [
  {
   "cell_type": "code",
   "execution_count": 37,
   "metadata": {},
   "outputs": [
    {
     "name": "stderr",
     "output_type": "stream",
     "text": [
      "Failed to write data to connection ResolvedIPv4Address(('34.31.169.230', 7687)) (ResolvedIPv4Address(('34.31.169.230', 7687)))\n",
      "Failed to write data to connection IPv4Address(('e0680b3a.databases.neo4j.io', 7687)) (ResolvedIPv4Address(('34.31.169.230', 7687)))\n"
     ]
    }
   ],
   "source": [
    "from neo4j import GraphDatabase\n",
    "\n",
    "uri = \"neo4j+s://e0680b3a.databases.neo4j.io\"\n",
    "username = \"neo4j\"\n",
    "password = \"_F22z82A65bPJu-iTqXCBblXi0qFhL0vkAy4MFQloe0\"\n",
    "\n",
    "# Create a driver instance\n",
    "driver = GraphDatabase.driver(uri, auth=(username, password))\n",
    "\n",
    "def run_query(query):\n",
    "    with driver.session() as session:\n",
    "        result = session.run(query)\n",
    "        return [record for record in result]\n",
    "\n"
   ]
  },
  {
   "cell_type": "code",
   "execution_count": 38,
   "metadata": {},
   "outputs": [
    {
     "name": "stdout",
     "output_type": "stream",
     "text": [
      "<Record s=<Node element_id='4:a96f49fb-4838-4337-adf2-437561538aa5:100' labels=frozenset({'Song'}) properties={'popularityScore': 74, 'spotifyUrl': 'https://open.spotify.com/track/2lnzGkdtDj5mtlcOW2yRtG', 'releaseDate': '2001-11-13', 'artist': 'Shakira', 'album': 'Laundry Service', 'genre': 'colombian pop, dance pop, latin pop, pop', 'title': 'Whenever, Wherever', 'songId': '1'}>>\n",
      "<Record s=<Node element_id='4:a96f49fb-4838-4337-adf2-437561538aa5:101' labels=frozenset({'Song'}) properties={'popularityScore': 81, 'spotifyUrl': 'https://open.spotify.com/track/49FYlytm3dAAraYgpoJZux', 'releaseDate': '2008-06-02', 'artist': 'Rihanna, JAY-Z', 'album': 'Good Girl Gone Bad: Reloaded', 'genre': 'barbadian pop, pop, urban contemporary', 'title': 'Umbrella', 'songId': '2'}>>\n",
      "<Record s=<Node element_id='4:a96f49fb-4838-4337-adf2-437561538aa5:102' labels=frozenset({'Song'}) properties={'popularityScore': 84, 'spotifyUrl': 'https://open.spotify.com/track/3ZFTkvIE7kyPt6Nu3PEa7V', 'releaseDate': '2005-11-28', 'artist': 'Shakira, Wyclef Jean', 'album': 'Oral Fixation, Vol. 2 (Expanded Edition)', 'genre': 'colombian pop, dance pop, latin pop, pop', 'title': \"Hips Don't Lie (feat. Wyclef Jean)\", 'songId': '3'}>>\n",
      "<Record s=<Node element_id='4:a96f49fb-4838-4337-adf2-437561538aa5:103' labels=frozenset({'Song'}) properties={'popularityScore': 70, 'spotifyUrl': 'https://open.spotify.com/track/1z9kQ14XBSN0r2v6fx4IdG', 'releaseDate': '2012-01-01', 'artist': 'Rihanna', 'album': 'Unapologetic (Edited Version)', 'genre': 'barbadian pop, pop, urban contemporary', 'title': 'Diamonds', 'songId': '4'}>>\n",
      "<Record s=<Node element_id='4:a96f49fb-4838-4337-adf2-437561538aa5:104' labels=frozenset({'Song'}) properties={'popularityScore': 83, 'spotifyUrl': 'https://open.spotify.com/track/2kQuhkFX7uSVepCD3h29g5', 'releaseDate': '2006-01-01', 'artist': 'Akon, Eminem', 'album': 'Konvicted', 'genre': 'dance pop', 'title': 'Smack That', 'songId': '5'}>>\n",
      "<Record s=<Node element_id='4:a96f49fb-4838-4337-adf2-437561538aa5:105' labels=frozenset({'Song'}) properties={'popularityScore': 2, 'spotifyUrl': 'https://open.spotify.com/track/1ARJhjuI6TNYZCxYygFQ4F', 'releaseDate': '2008-01-01', 'artist': 'Akon', 'album': 'Freedom', 'genre': 'dance pop', 'title': 'Right Now (Na Na Na)', 'songId': '6'}>>\n",
      "<Record s=<Node element_id='4:a96f49fb-4838-4337-adf2-437561538aa5:106' labels=frozenset({'Song'}) properties={'popularityScore': 82, 'spotifyUrl': 'https://open.spotify.com/track/0SiywuOBRcynK0uKGWdCnn', 'releaseDate': '2009-11-05', 'artist': 'Lady Gaga', 'album': 'The Fame Monster (Deluxe Edition)', 'genre': 'art pop, dance pop, pop', 'title': 'Bad Romance', 'songId': '7'}>>\n",
      "<Record s=<Node element_id='4:a96f49fb-4838-4337-adf2-437561538aa5:107' labels=frozenset({'Song'}) properties={'popularityScore': 78, 'spotifyUrl': 'https://open.spotify.com/track/7EQGXaVSyEDsCWKmUcfpLk', 'releaseDate': '2012-11-30', 'artist': 'Kesha', 'album': 'Warrior (Expanded Edition)', 'genre': 'dance pop, pop', 'title': 'Die Young', 'songId': '8'}>>\n",
      "<Record s=<Node element_id='4:a96f49fb-4838-4337-adf2-437561538aa5:109' labels=frozenset({'Song'}) properties={'popularityScore': 56, 'spotifyUrl': 'https://open.spotify.com/track/44EkzAU92xwm30YpD4p31i', 'releaseDate': '2014-04-25', 'artist': 'Alicia Keys, Kendrick Lamar', 'album': \"It's On Again (feat. Kendrick Lamar) [From The Amazing Spider-Man 2 Soundtrack]\", 'genre': 'neo soul, pop, r&b', 'title': \"It's On Again (feat. Kendrick Lamar) - From The Amazing Spider-Man 2 Soundtrack\", 'songId': '10'}>>\n",
      "<Record s=<Node element_id='4:a96f49fb-4838-4337-adf2-437561538aa5:110' labels=frozenset({'Song'}) properties={'popularityScore': 70, 'spotifyUrl': 'https://open.spotify.com/track/1y4eb6hmAvsqlDOl3fx9kk', 'releaseDate': '2008-06-17', 'artist': 'Katy Perry', 'album': 'One Of The Boys', 'genre': 'pop', 'title': 'Hot N Cold', 'songId': '11'}>>\n",
      "<Record s=<Node element_id='4:a96f49fb-4838-4337-adf2-437561538aa5:111' labels=frozenset({'Song'}) properties={'popularityScore': 82, 'spotifyUrl': 'https://open.spotify.com/track/5jsw9uXEGuKyJzs0boZ1bT', 'releaseDate': '2015-04-14', 'artist': 'Shawn Mendes', 'album': 'Handwritten', 'genre': 'canadian pop, pop, viral pop', 'title': 'Stitches', 'songId': '12'}>>\n",
      "<Record s=<Node element_id='4:a96f49fb-4838-4337-adf2-437561538aa5:113' labels=frozenset({'Song'}) properties={'popularityScore': 62, 'spotifyUrl': 'https://open.spotify.com/track/1vrd6UOGamcKNGnSHJQlSt', 'releaseDate': '2008-11-11', 'artist': 'Taylor Swift', 'album': 'Fearless', 'genre': 'pop', 'title': 'Love Story', 'songId': '14'}>>\n",
      "<Record s=<Node element_id='4:a96f49fb-4838-4337-adf2-437561538aa5:121' labels=frozenset({'Song'}) properties={'artist': 'Chappell Roan', 'album': 'Good Luck, Babe!', 'genre': 'synthpop', 'streamCount': '33025736', 'title': 'Good Luck, Babe!', 'songId': '22', 'lastFmUrl': 'https://www.last.fm/music/Chappell+Roan/_/Good+Luck,+Babe%21'}>>\n",
      "<Record s=<Node element_id='4:a96f49fb-4838-4337-adf2-437561538aa5:123' labels=frozenset({'Song'}) properties={'artist': 'Billie Eilish', 'album': 'HIT ME HARD AND SOFT', 'genre': 'alt-pop', 'streamCount': '29588461', 'title': 'BIRDS OF A FEATHER', 'songId': '24', 'lastFmUrl': 'https://www.last.fm/music/Billie+Eilish/_/BIRDS+OF+A+FEATHER'}>>\n",
      "<Record s=<Node element_id='4:a96f49fb-4838-4337-adf2-437561538aa5:126' labels=frozenset({'Song'}) properties={'artist': 'Rosé', 'album': 'APT.', 'genre': 'pop rock', 'streamCount': '10020589', 'title': 'APT.', 'songId': '27', 'lastFmUrl': 'https://www.last.fm/music/Ros%C3%A9/_/APT.'}>>\n",
      "<Record s=<Node element_id='4:a96f49fb-4838-4337-adf2-437561538aa5:131' labels=frozenset({'Song'}) properties={'artist': 'Sabrina Carpenter', 'album': 'Single', 'genre': 'pop rock', 'streamCount': '14129214', 'title': 'tAsTe', 'songId': '32', 'lastFmUrl': 'https://www.last.fm/music/Sabrina+Carpenter/_/tAsTe'}>>\n",
      "<Record s=<Node element_id='4:a96f49fb-4838-4337-adf2-437561538aa5:132' labels=frozenset({'Song'}) properties={'artist': 'Sabrina Carpenter', 'album': 'Single', 'genre': 'pop', 'streamCount': '34371442', 'title': 'espresso', 'songId': '33', 'lastFmUrl': 'https://www.last.fm/music/Sabrina+Carpenter/_/espresso'}>>\n",
      "<Record s=<Node element_id='4:a96f49fb-4838-4337-adf2-437561538aa5:137' labels=frozenset({'Song'}) properties={'artist': 'Chappell Roan', 'album': 'The Rise and Fall of a Midwest Princess', 'genre': 'synthpop', 'streamCount': '19281511', 'title': 'HOT TO GO!', 'songId': '38', 'lastFmUrl': 'https://www.last.fm/music/Chappell+Roan/_/HOT+TO+GO%21'}>>\n"
     ]
    }
   ],
   "source": [
    "query1 = \"\"\"\n",
    "MATCH (s:Song)\n",
    "WHERE toLower(s.genre) CONTAINS toLower('Pop')\n",
    "RETURN s\n",
    "\"\"\"\n",
    "\n",
    "results = run_query(query1)\n",
    "for record in results:\n",
    "    print(record)\n"
   ]
  },
  {
   "cell_type": "code",
   "execution_count": 10,
   "metadata": {},
   "outputs": [
    {
     "name": "stdout",
     "output_type": "stream",
     "text": [
      "<Record number_of_songs=2>\n"
     ]
    }
   ],
   "source": [
    "\n",
    "query2 = \"\"\"\n",
    "MATCH (s:Song)\n",
    "WHERE toLower(s.artist) CONTAINS toLower('sabrina carpenter')\n",
    "RETURN count(s) AS number_of_songs\n",
    "\"\"\"\n",
    "\n",
    "results = run_query(query2)\n",
    "for record in results:\n",
    "    print(record)"
   ]
  },
  {
   "cell_type": "code",
   "execution_count": 12,
   "metadata": {},
   "outputs": [
    {
     "name": "stdout",
     "output_type": "stream",
     "text": [
      "<Record Title=\"Hips Don't Lie (feat. Wyclef Jean)\" PopularityScore=84>\n",
      "<Record Title='Smack That' PopularityScore=83>\n",
      "<Record Title='Stitches' PopularityScore=82>\n",
      "<Record Title='Bad Romance' PopularityScore=82>\n",
      "<Record Title='Umbrella' PopularityScore=81>\n",
      "<Record Title='Die Young' PopularityScore=78>\n",
      "<Record Title='Whenever, Wherever' PopularityScore=74>\n",
      "<Record Title='Hot N Cold' PopularityScore=70>\n",
      "<Record Title='Diamonds' PopularityScore=70>\n",
      "<Record Title='Love Story' PopularityScore=63>\n"
     ]
    }
   ],
   "source": [
    "query3 = \"\"\"\n",
    "MATCH (s:Song)\n",
    "WHERE s.popularityScore IS NOT NULL\n",
    "RETURN s.title AS Title, s.popularityScore AS PopularityScore\n",
    "ORDER BY s.popularityScore DESC\n",
    "LIMIT 10; \"\"\"\n",
    "\n",
    "results = run_query(query3)\n",
    "for record in results:\n",
    "    print(record)"
   ]
  },
  {
   "cell_type": "code",
   "execution_count": 14,
   "metadata": {},
   "outputs": [
    {
     "name": "stdout",
     "output_type": "stream",
     "text": [
      "<Record Genre='art pop, dance pop, pop' NumberOfSongs=1>\n",
      "<Record Genre='dance pop, pop' NumberOfSongs=1>\n",
      "<Record Genre='neo soul, pop, r&b' NumberOfSongs=1>\n",
      "<Record Genre='canadian pop, pop, viral pop' NumberOfSongs=1>\n",
      "<Record Genre='cali rap' NumberOfSongs=1>\n",
      "<Record Genre='gym hardstyle, polish phonk' NumberOfSongs=1>\n",
      "<Record Genre='experimental hip hop' NumberOfSongs=1>\n",
      "<Record Genre='Crunk' NumberOfSongs=1>\n",
      "<Record Genre='hip hop' NumberOfSongs=1>\n",
      "<Record Genre='alt-pop' NumberOfSongs=1>\n",
      "<Record Genre='Neo-Soul' NumberOfSongs=1>\n",
      "<Record Genre='hyphy' NumberOfSongs=1>\n",
      "<Record Genre='Psychedelic Rock' NumberOfSongs=1>\n",
      "<Record Genre='trap' NumberOfSongs=1>\n",
      "<Record Genre='Bruno Mars' NumberOfSongs=1>\n",
      "<Record Genre='cloud rap' NumberOfSongs=1>\n",
      "<Record Genre='jazz rap' NumberOfSongs=1>\n",
      "<Record Genre='lounge' NumberOfSongs=1>\n",
      "<Record Genre='Conscious Hip Hop' NumberOfSongs=1>\n",
      "<Record Genre='colombian pop, dance pop, latin pop, pop' NumberOfSongs=2>\n",
      "<Record Genre='barbadian pop, pop, urban contemporary' NumberOfSongs=2>\n",
      "<Record Genre='dance pop' NumberOfSongs=2>\n",
      "<Record Genre='alt z, indietronica' NumberOfSongs=2>\n",
      "<Record Genre='' NumberOfSongs=2>\n",
      "<Record Genre='chicago rap, melodic rap, rap' NumberOfSongs=2>\n",
      "<Record Genre='synthpop' NumberOfSongs=2>\n",
      "<Record Genre='N/A' NumberOfSongs=2>\n",
      "<Record Genre='pop rock' NumberOfSongs=2>\n",
      "<Record Genre='pop' NumberOfSongs=3>\n"
     ]
    }
   ],
   "source": [
    "query4 = \"\"\"\n",
    "MATCH (s:Song)\n",
    "RETURN s.genre AS Genre, count(s) AS NumberOfSongs\n",
    "ORDER BY NumberOfSongs;\n",
    "\"\"\"\n",
    "\n",
    "results = run_query(query4)\n",
    "for record in results:\n",
    "    print(record)\n"
   ]
  },
  {
   "cell_type": "markdown",
   "metadata": {},
   "source": [
    "**Point 5: Build the appropriate indexes for previous queries, report the index creation statement and the query execution time before and after you create the index.**"
   ]
  },
  {
   "cell_type": "code",
   "execution_count": 15,
   "metadata": {},
   "outputs": [],
   "source": [
    "def create_index(label, property):\n",
    "    with driver.session() as session:\n",
    "        index_query = f\"CREATE INDEX FOR (n:{label}) ON (n.{property})\"\n",
    "        session.run(index_query)\n",
    "        print(f\"Index created for {label} on {property}\")\n"
   ]
  },
  {
   "cell_type": "code",
   "execution_count": null,
   "metadata": {},
   "outputs": [
    {
     "name": "stdout",
     "output_type": "stream",
     "text": [
      "Index created for Song on genre\n",
      "Index created for Song on artist\n",
      "Index created for Song on popularityScore\n"
     ]
    }
   ],
   "source": [
    "\n",
    "#index_for_query1_and_4\n",
    "#equivalent to:\n",
    "#CREATE INDEX FOR (s:Song) ON (s.genre)\n",
    "create_index(\"Song\", \"genre\")\n",
    "\n",
    "#index_for_query2\n",
    "create_index(\"Song\", \"artist\")\n",
    "\n",
    "\n",
    "#index_for_query3\n",
    "create_index(\"Song\", \"popularityScore\")\n",
    "\n",
    "\n"
   ]
  },
  {
   "cell_type": "markdown",
   "metadata": {},
   "source": [
    "Rerunning queries to compare runtimes with the previous runs. We can observe that running times are now faster"
   ]
  },
  {
   "cell_type": "code",
   "execution_count": 19,
   "metadata": {},
   "outputs": [
    {
     "name": "stdout",
     "output_type": "stream",
     "text": [
      "<Record s=<Node element_id='4:a96f49fb-4838-4337-adf2-437561538aa5:40' labels=frozenset({'Song'}) properties={'popularityScore': 74, 'spotifyUrl': 'https://open.spotify.com/track/2lnzGkdtDj5mtlcOW2yRtG', 'releaseDate': '2001-11-13', 'artist': 'Shakira', 'album': 'Laundry Service', 'genre': 'colombian pop, dance pop, latin pop, pop', 'title': 'Whenever, Wherever', 'songId': '1'}>>\n",
      "<Record s=<Node element_id='4:a96f49fb-4838-4337-adf2-437561538aa5:41' labels=frozenset({'Song'}) properties={'popularityScore': 81, 'spotifyUrl': 'https://open.spotify.com/track/49FYlytm3dAAraYgpoJZux', 'releaseDate': '2008-06-02', 'artist': 'Rihanna, JAY-Z', 'album': 'Good Girl Gone Bad: Reloaded', 'genre': 'barbadian pop, pop, urban contemporary', 'title': 'Umbrella', 'songId': '2'}>>\n",
      "<Record s=<Node element_id='4:a96f49fb-4838-4337-adf2-437561538aa5:42' labels=frozenset({'Song'}) properties={'popularityScore': 84, 'spotifyUrl': 'https://open.spotify.com/track/3ZFTkvIE7kyPt6Nu3PEa7V', 'releaseDate': '2005-11-28', 'artist': 'Shakira, Wyclef Jean', 'album': 'Oral Fixation, Vol. 2 (Expanded Edition)', 'genre': 'colombian pop, dance pop, latin pop, pop', 'title': \"Hips Don't Lie (feat. Wyclef Jean)\", 'songId': '3'}>>\n",
      "<Record s=<Node element_id='4:a96f49fb-4838-4337-adf2-437561538aa5:43' labels=frozenset({'Song'}) properties={'popularityScore': 70, 'spotifyUrl': 'https://open.spotify.com/track/1z9kQ14XBSN0r2v6fx4IdG', 'releaseDate': '2012-01-01', 'artist': 'Rihanna', 'album': 'Unapologetic (Edited Version)', 'genre': 'barbadian pop, pop, urban contemporary', 'title': 'Diamonds', 'songId': '4'}>>\n",
      "<Record s=<Node element_id='4:a96f49fb-4838-4337-adf2-437561538aa5:44' labels=frozenset({'Song'}) properties={'popularityScore': 83, 'spotifyUrl': 'https://open.spotify.com/track/2kQuhkFX7uSVepCD3h29g5', 'releaseDate': '2006-01-01', 'artist': 'Akon, Eminem', 'album': 'Konvicted', 'genre': 'dance pop', 'title': 'Smack That', 'songId': '5'}>>\n",
      "<Record s=<Node element_id='4:a96f49fb-4838-4337-adf2-437561538aa5:45' labels=frozenset({'Song'}) properties={'popularityScore': 2, 'spotifyUrl': 'https://open.spotify.com/track/1ARJhjuI6TNYZCxYygFQ4F', 'releaseDate': '2008-01-01', 'artist': 'Akon', 'album': 'Freedom', 'genre': 'dance pop', 'title': 'Right Now (Na Na Na)', 'songId': '6'}>>\n",
      "<Record s=<Node element_id='4:a96f49fb-4838-4337-adf2-437561538aa5:46' labels=frozenset({'Song'}) properties={'popularityScore': 82, 'spotifyUrl': 'https://open.spotify.com/track/0SiywuOBRcynK0uKGWdCnn', 'releaseDate': '2009-11-05', 'artist': 'Lady Gaga', 'album': 'The Fame Monster (Deluxe Edition)', 'genre': 'art pop, dance pop, pop', 'title': 'Bad Romance', 'songId': '7'}>>\n",
      "<Record s=<Node element_id='4:a96f49fb-4838-4337-adf2-437561538aa5:47' labels=frozenset({'Song'}) properties={'popularityScore': 78, 'spotifyUrl': 'https://open.spotify.com/track/7EQGXaVSyEDsCWKmUcfpLk', 'releaseDate': '2012-11-30', 'artist': 'Kesha', 'album': 'Warrior (Expanded Edition)', 'genre': 'dance pop, pop', 'title': 'Die Young', 'songId': '8'}>>\n",
      "<Record s=<Node element_id='4:a96f49fb-4838-4337-adf2-437561538aa5:49' labels=frozenset({'Song'}) properties={'popularityScore': 57, 'spotifyUrl': 'https://open.spotify.com/track/44EkzAU92xwm30YpD4p31i', 'releaseDate': '2014-04-25', 'artist': 'Alicia Keys, Kendrick Lamar', 'album': \"It's On Again (feat. Kendrick Lamar) [From The Amazing Spider-Man 2 Soundtrack]\", 'genre': 'neo soul, pop, r&b', 'title': \"It's On Again (feat. Kendrick Lamar) - From The Amazing Spider-Man 2 Soundtrack\", 'songId': '10'}>>\n",
      "<Record s=<Node element_id='4:a96f49fb-4838-4337-adf2-437561538aa5:50' labels=frozenset({'Song'}) properties={'popularityScore': 70, 'spotifyUrl': 'https://open.spotify.com/track/1y4eb6hmAvsqlDOl3fx9kk', 'releaseDate': '2008-06-17', 'artist': 'Katy Perry', 'album': 'One Of The Boys', 'genre': 'pop', 'title': 'Hot N Cold', 'songId': '11'}>>\n",
      "<Record s=<Node element_id='4:a96f49fb-4838-4337-adf2-437561538aa5:51' labels=frozenset({'Song'}) properties={'popularityScore': 82, 'spotifyUrl': 'https://open.spotify.com/track/5jsw9uXEGuKyJzs0boZ1bT', 'releaseDate': '2015-04-14', 'artist': 'Shawn Mendes', 'album': 'Handwritten', 'genre': 'canadian pop, pop, viral pop', 'title': 'Stitches', 'songId': '12'}>>\n",
      "<Record s=<Node element_id='4:a96f49fb-4838-4337-adf2-437561538aa5:53' labels=frozenset({'Song'}) properties={'popularityScore': 63, 'spotifyUrl': 'https://open.spotify.com/track/1vrd6UOGamcKNGnSHJQlSt', 'releaseDate': '2008-11-11', 'artist': 'Taylor Swift', 'album': 'Fearless', 'genre': 'pop', 'title': 'Love Story', 'songId': '14'}>>\n",
      "<Record s=<Node element_id='4:a96f49fb-4838-4337-adf2-437561538aa5:61' labels=frozenset({'Song'}) properties={'artist': 'Chappell Roan', 'album': 'Good Luck, Babe!', 'genre': 'synthpop', 'streamCount': '32948388', 'title': 'Good Luck, Babe!', 'songId': '22', 'lastFmUrl': 'https://www.last.fm/music/Chappell+Roan/_/Good+Luck,+Babe%21'}>>\n",
      "<Record s=<Node element_id='4:a96f49fb-4838-4337-adf2-437561538aa5:64' labels=frozenset({'Song'}) properties={'artist': 'Billie Eilish', 'album': 'HIT ME HARD AND SOFT', 'genre': 'alt-pop', 'streamCount': '29512562', 'title': 'BIRDS OF A FEATHER', 'songId': '25', 'lastFmUrl': 'https://www.last.fm/music/Billie+Eilish/_/BIRDS+OF+A+FEATHER'}>>\n",
      "<Record s=<Node element_id='4:a96f49fb-4838-4337-adf2-437561538aa5:70' labels=frozenset({'Song'}) properties={'artist': 'Rosé', 'album': 'APT.', 'genre': 'pop rock', 'streamCount': '9906717', 'title': 'APT.', 'songId': '31', 'lastFmUrl': 'https://www.last.fm/music/Ros%C3%A9/_/APT.'}>>\n",
      "<Record s=<Node element_id='4:a96f49fb-4838-4337-adf2-437561538aa5:72' labels=frozenset({'Song'}) properties={'artist': 'Sabrina Carpenter', 'album': 'Single', 'genre': 'pop rock', 'streamCount': '14001899', 'title': 'tAsTe', 'songId': '33', 'lastFmUrl': 'https://www.last.fm/music/Sabrina+Carpenter/_/tAsTe'}>>\n",
      "<Record s=<Node element_id='4:a96f49fb-4838-4337-adf2-437561538aa5:73' labels=frozenset({'Song'}) properties={'artist': 'Sabrina Carpenter', 'album': 'Single', 'genre': 'pop', 'streamCount': '34251813', 'title': 'espresso', 'songId': '34', 'lastFmUrl': 'https://www.last.fm/music/Sabrina+Carpenter/_/espresso'}>>\n",
      "<Record s=<Node element_id='4:a96f49fb-4838-4337-adf2-437561538aa5:78' labels=frozenset({'Song'}) properties={'artist': 'Chappell Roan', 'album': 'The Rise and Fall of a Midwest Princess', 'genre': 'synthpop', 'streamCount': '19236075', 'title': 'HOT TO GO!', 'songId': '39', 'lastFmUrl': 'https://www.last.fm/music/Chappell+Roan/_/HOT+TO+GO%21'}>>\n"
     ]
    }
   ],
   "source": [
    "query1 = \"\"\"\n",
    "MATCH (s:Song)\n",
    "WHERE toLower(s.genre) CONTAINS toLower('Pop')\n",
    "RETURN s\n",
    "\"\"\"\n",
    "\n",
    "results = run_query(query1)\n",
    "for record in results:\n",
    "    print(record)"
   ]
  },
  {
   "cell_type": "code",
   "execution_count": 20,
   "metadata": {},
   "outputs": [
    {
     "name": "stdout",
     "output_type": "stream",
     "text": [
      "<Record number_of_songs=2>\n"
     ]
    }
   ],
   "source": [
    "query2 = \"\"\"\n",
    "MATCH (s:Song)\n",
    "WHERE toLower(s.artist) CONTAINS toLower('sabrina carpenter')\n",
    "RETURN count(s) AS number_of_songs\n",
    "\"\"\"\n",
    "\n",
    "results = run_query(query2)\n",
    "for record in results:\n",
    "    print(record)"
   ]
  },
  {
   "cell_type": "code",
   "execution_count": 21,
   "metadata": {},
   "outputs": [
    {
     "name": "stdout",
     "output_type": "stream",
     "text": [
      "<Record Title=\"Hips Don't Lie (feat. Wyclef Jean)\" PopularityScore=84>\n",
      "<Record Title='Smack That' PopularityScore=83>\n",
      "<Record Title='Stitches' PopularityScore=82>\n",
      "<Record Title='Bad Romance' PopularityScore=82>\n",
      "<Record Title='Umbrella' PopularityScore=81>\n",
      "<Record Title='Die Young' PopularityScore=78>\n",
      "<Record Title='Whenever, Wherever' PopularityScore=74>\n",
      "<Record Title='Hot N Cold' PopularityScore=70>\n",
      "<Record Title='Diamonds' PopularityScore=70>\n",
      "<Record Title='Love Story' PopularityScore=63>\n"
     ]
    }
   ],
   "source": [
    "query3 = \"\"\"\n",
    "MATCH (s:Song)\n",
    "WHERE s.popularityScore IS NOT NULL\n",
    "RETURN s.title AS Title, s.popularityScore AS PopularityScore\n",
    "ORDER BY s.popularityScore DESC\n",
    "LIMIT 10; \"\"\"\n",
    "\n",
    "results = run_query(query3)\n",
    "for record in results:\n",
    "    print(record)"
   ]
  },
  {
   "cell_type": "code",
   "execution_count": 22,
   "metadata": {},
   "outputs": [
    {
     "name": "stdout",
     "output_type": "stream",
     "text": [
      "<Record Genre='art pop, dance pop, pop' NumberOfSongs=1>\n",
      "<Record Genre='dance pop, pop' NumberOfSongs=1>\n",
      "<Record Genre='neo soul, pop, r&b' NumberOfSongs=1>\n",
      "<Record Genre='canadian pop, pop, viral pop' NumberOfSongs=1>\n",
      "<Record Genre='cali rap' NumberOfSongs=1>\n",
      "<Record Genre='gym hardstyle, polish phonk' NumberOfSongs=1>\n",
      "<Record Genre='experimental hip hop' NumberOfSongs=1>\n",
      "<Record Genre='Crunk' NumberOfSongs=1>\n",
      "<Record Genre='hip hop' NumberOfSongs=1>\n",
      "<Record Genre='alt-pop' NumberOfSongs=1>\n",
      "<Record Genre='Neo-Soul' NumberOfSongs=1>\n",
      "<Record Genre='hyphy' NumberOfSongs=1>\n",
      "<Record Genre='Psychedelic Rock' NumberOfSongs=1>\n",
      "<Record Genre='trap' NumberOfSongs=1>\n",
      "<Record Genre='Bruno Mars' NumberOfSongs=1>\n",
      "<Record Genre='cloud rap' NumberOfSongs=1>\n",
      "<Record Genre='jazz rap' NumberOfSongs=1>\n",
      "<Record Genre='lounge' NumberOfSongs=1>\n",
      "<Record Genre='Conscious Hip Hop' NumberOfSongs=1>\n",
      "<Record Genre='colombian pop, dance pop, latin pop, pop' NumberOfSongs=2>\n",
      "<Record Genre='barbadian pop, pop, urban contemporary' NumberOfSongs=2>\n",
      "<Record Genre='dance pop' NumberOfSongs=2>\n",
      "<Record Genre='alt z, indietronica' NumberOfSongs=2>\n",
      "<Record Genre='' NumberOfSongs=2>\n",
      "<Record Genre='chicago rap, melodic rap, rap' NumberOfSongs=2>\n",
      "<Record Genre='synthpop' NumberOfSongs=2>\n",
      "<Record Genre='N/A' NumberOfSongs=2>\n",
      "<Record Genre='pop rock' NumberOfSongs=2>\n",
      "<Record Genre='pop' NumberOfSongs=3>\n"
     ]
    }
   ],
   "source": [
    "query4 = \"\"\"\n",
    "MATCH (s:Song)\n",
    "RETURN s.genre AS Genre, count(s) AS NumberOfSongs\n",
    "ORDER BY NumberOfSongs;\n",
    "\"\"\"\n",
    "\n",
    "results = run_query(query4)\n",
    "for record in results:\n",
    "    print(record)"
   ]
  },
  {
   "cell_type": "markdown",
   "metadata": {},
   "source": [
    "Delete all indexes. Run only if necessary"
   ]
  },
  {
   "cell_type": "code",
   "execution_count": 34,
   "metadata": {},
   "outputs": [
    {
     "name": "stdout",
     "output_type": "stream",
     "text": [
      "Index deleted: index_9baa58cc\n",
      "Index deleted: index_d0a471c\n",
      "Index deleted: index_d3356781\n"
     ]
    }
   ],
   "source": [
    "def drop_all_indexes(driver):\n",
    "    with driver.session() as session:\n",
    "        indexes = session.run(\"SHOW INDEXES\")\n",
    "        for index in indexes:\n",
    "            session.run(f\"DROP INDEX {index['name']}\")\n",
    "            print(f\"Index deleted: {index['name']}\")\n",
    "\n",
    "\n",
    "drop_all_indexes(driver)"
   ]
  },
  {
   "cell_type": "markdown",
   "metadata": {},
   "source": [
    "**Point 6: Demonstrate a full text search. Show the performance improvement by using indexes.**"
   ]
  },
  {
   "cell_type": "code",
   "execution_count": 26,
   "metadata": {},
   "outputs": [],
   "source": [
    "def create_full_text_index():\n",
    "    with driver.session() as session:\n",
    "        session.run(\"CALL db.index.fulltext.createNodeIndex('songsSearch', ['Song'], ['title', 'artist'])\")\n",
    "        print(\"Full-text index created.\")\n",
    "\n",
    "def full_text_search(query):\n",
    "    with driver.session() as session:\n",
    "        result = session.run(\"CALL db.index.fulltext.queryNodes('songsSearch', $query) YIELD node, score \"\n",
    "                             \"RETURN node.title AS Title, node.artist AS Artist, score ORDER BY score DESC\", query=query)\n",
    "        for record in result:\n",
    "            print(record[\"Title\"], record[\"Artist\"], record[\"score\"])\n",
    "\n",
    "import time\n",
    "\n",
    "def search_without_index(query):\n",
    "    with driver.session() as session:\n",
    "        start_time = time.time()\n",
    "        result = session.run(\"MATCH (s:Song) \"\n",
    "                             \"WHERE s.title CONTAINS $query OR s.artist CONTAINS $query \"\n",
    "                             \"RETURN s.title AS Title, s.artist AS Artist\", query=query)\n",
    "        print(\"Results without index:\")\n",
    "        for record in result:\n",
    "            print(record[\"Title\"], record[\"Artist\"])\n",
    "        print(\"Execution time:\", time.time() - start_time, \"seconds\")\n",
    "\n",
    "def search_with_index(query):\n",
    "    with driver.session() as session:\n",
    "        start_time = time.time()\n",
    "        result = session.run(\"CALL db.index.fulltext.queryNodes('songsSearch', $query) YIELD node, score \"\n",
    "                             \"RETURN node.title AS Title, node.artist AS Artist, score ORDER BY score DESC\", query=query)\n",
    "        print(\"Results with index:\")\n",
    "        for record in result:\n",
    "            print(record[\"Title\"], record[\"Artist\"], record[\"score\"])\n",
    "        print(\"Execution time:\", time.time() - start_time, \"seconds\")\n",
    "\n"
   ]
  },
  {
   "cell_type": "code",
   "execution_count": null,
   "metadata": {},
   "outputs": [
    {
     "ename": "TypeError",
     "evalue": "run() got multiple values for argument 'query'",
     "output_type": "error",
     "traceback": [
      "\u001b[1;31m---------------------------------------------------------------------------\u001b[0m",
      "\u001b[1;31mTypeError\u001b[0m                                 Traceback (most recent call last)",
      "Cell \u001b[1;32mIn[36], line 3\u001b[0m\n\u001b[0;32m      1\u001b[0m \u001b[38;5;66;03m# Perform searches\u001b[39;00m\n\u001b[0;32m      2\u001b[0m search_query \u001b[38;5;241m=\u001b[39m \u001b[38;5;124m\"\u001b[39m\u001b[38;5;124mlove\u001b[39m\u001b[38;5;124m\"\u001b[39m\n\u001b[1;32m----> 3\u001b[0m \u001b[43msearch_without_index\u001b[49m\u001b[43m(\u001b[49m\u001b[43msearch_query\u001b[49m\u001b[43m)\u001b[49m\n",
      "Cell \u001b[1;32mIn[26], line 18\u001b[0m, in \u001b[0;36msearch_without_index\u001b[1;34m(query)\u001b[0m\n\u001b[0;32m     16\u001b[0m \u001b[38;5;28;01mwith\u001b[39;00m driver\u001b[38;5;241m.\u001b[39msession() \u001b[38;5;28;01mas\u001b[39;00m session:\n\u001b[0;32m     17\u001b[0m     start_time \u001b[38;5;241m=\u001b[39m time\u001b[38;5;241m.\u001b[39mtime()\n\u001b[1;32m---> 18\u001b[0m     result \u001b[38;5;241m=\u001b[39m \u001b[43msession\u001b[49m\u001b[38;5;241;43m.\u001b[39;49m\u001b[43mrun\u001b[49m\u001b[43m(\u001b[49m\u001b[38;5;124;43m\"\u001b[39;49m\u001b[38;5;124;43mMATCH (s:Song) \u001b[39;49m\u001b[38;5;124;43m\"\u001b[39;49m\n\u001b[0;32m     19\u001b[0m \u001b[43m                         \u001b[49m\u001b[38;5;124;43m\"\u001b[39;49m\u001b[38;5;124;43mWHERE s.title CONTAINS $query OR s.artist CONTAINS $query \u001b[39;49m\u001b[38;5;124;43m\"\u001b[39;49m\n\u001b[0;32m     20\u001b[0m \u001b[43m                         \u001b[49m\u001b[38;5;124;43m\"\u001b[39;49m\u001b[38;5;124;43mRETURN s.title AS Title, s.artist AS Artist\u001b[39;49m\u001b[38;5;124;43m\"\u001b[39;49m\u001b[43m,\u001b[49m\u001b[43m \u001b[49m\u001b[43mquery\u001b[49m\u001b[38;5;241;43m=\u001b[39;49m\u001b[43mquery\u001b[49m\u001b[43m)\u001b[49m\n\u001b[0;32m     21\u001b[0m     \u001b[38;5;28mprint\u001b[39m(\u001b[38;5;124m\"\u001b[39m\u001b[38;5;124mResults without index:\u001b[39m\u001b[38;5;124m\"\u001b[39m)\n\u001b[0;32m     22\u001b[0m     \u001b[38;5;28;01mfor\u001b[39;00m record \u001b[38;5;129;01min\u001b[39;00m result:\n",
      "\u001b[1;31mTypeError\u001b[0m: run() got multiple values for argument 'query'"
     ]
    }
   ],
   "source": [
    "\n",
    "# Perform searches\n",
    "search_query = \"love\"\n",
    "search_without_index(search_query)\n",
    "search_with_index(search_query)\n"
   ]
  }
 ],
 "metadata": {
  "kernelspec": {
   "display_name": "testPythonKernel",
   "language": "python",
   "name": "test"
  },
  "language_info": {
   "codemirror_mode": {
    "name": "ipython",
    "version": 3
   },
   "file_extension": ".py",
   "mimetype": "text/x-python",
   "name": "python",
   "nbconvert_exporter": "python",
   "pygments_lexer": "ipython3",
   "version": "3.8.20"
  }
 },
 "nbformat": 4,
 "nbformat_minor": 2
}
